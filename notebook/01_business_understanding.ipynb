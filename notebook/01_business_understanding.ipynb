{
 "cells": [
  {
   "cell_type": "markdown",
   "metadata": {},
   "source": [
    "# DATOS HISTORICOS DE BITCOIN\n",
    "**DATASET**  https://www.kaggle.com/datasets/mczielinski/bitcoin-historical-data  \n",
    "\n",
    "## **Contexto del dataset** \n",
    "*Este dataset contiene información de la criptomoneda bitcoin, la información es desde el 01/01/2012 hasta mas o menos el 09/09/2025 (Aqui lo descargué, este dataset se actualiza a diario al parecer), entre las variables que podemos encontrar es la fecha en formato UNIX \"Timestamp\", valor de apertura \"Open\", el valor más alto \"High\", el valor mas bajo \"Low\", el valor de cierre \"Close\", Volumen transaccionado \"Volume\". Este dataset se maneja en ventanas de 1 segundo por lo que tiene la información completa, la idea es inicialmente transformarlo a dia para reducir la cantidad de valores a trabajar.*\n",
    "## **Variables**\n",
    "***Timestamp** - UNIX / segundos*  \n",
    "***Open** - apertura*  \n",
    "***High** - valor más alto*  \n",
    "***Low** - valor más bajo*  \n",
    "***Close** - valor de cierre*  \n",
    "***Volume** - cantidad transaccionada*  \n"
   ]
  },
  {
   "cell_type": "code",
   "execution_count": null,
   "metadata": {},
   "outputs": [],
   "source": []
  }
 ],
 "metadata": {
  "language_info": {
   "name": "python"
  }
 },
 "nbformat": 4,
 "nbformat_minor": 2
}
